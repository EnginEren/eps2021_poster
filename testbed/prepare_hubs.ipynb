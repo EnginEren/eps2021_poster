{
 "cells": [
  {
   "cell_type": "markdown",
   "metadata": {},
   "source": [
    "## Fetch and parse\n",
    "Download `contributionsMT.csv` file from the event indico. You need admin rights for that"
   ]
  },
  {
   "cell_type": "code",
   "execution_count": 2,
   "metadata": {},
   "outputs": [],
   "source": [
    "import pandas as pd\n",
    "import requests\n",
    "from os import listdir, system\n",
    "from os.path import isfile, join\n",
    "import matplotlib\n",
    "import matplotlib.pyplot as plt\n",
    "\n",
    "def generate_text(num, outp):\n",
    "    fig = plt.figure()\n",
    "    ax = fig.add_subplot()\n",
    "    fig.subplots_adjust(top=0.85)\n",
    "\n",
    "\n",
    "    ax.text(0.1, 0.1, num, color='white',\n",
    "            bbox={'facecolor': 'black', 'alpha': 1.0, 'pad': 115}, fontsize=202)\n",
    "\n",
    "\n",
    "    #plt.show()\n",
    "    fig.savefig(outp, dpi=300, bbox_inches='tight')\n",
    "\n",
    "\n",
    "data = pd.read_csv(\"contributionsMT.csv\")\n",
    "s = data[['Presenters', 'Id', 'Materials']].dropna()\n",
    "#data.keys()"
   ]
  },
  {
   "cell_type": "code",
   "execution_count": 4,
   "metadata": {},
   "outputs": [
    {
     "data": {
      "text/html": [
       "<div>\n",
       "<style scoped>\n",
       "    .dataframe tbody tr th:only-of-type {\n",
       "        vertical-align: middle;\n",
       "    }\n",
       "\n",
       "    .dataframe tbody tr th {\n",
       "        vertical-align: top;\n",
       "    }\n",
       "\n",
       "    .dataframe thead th {\n",
       "        text-align: right;\n",
       "    }\n",
       "</style>\n",
       "<table border=\"1\" class=\"dataframe\">\n",
       "  <thead>\n",
       "    <tr style=\"text-align: right;\">\n",
       "      <th></th>\n",
       "      <th>Presenters</th>\n",
       "      <th>Id</th>\n",
       "      <th>Materials</th>\n",
       "    </tr>\n",
       "  </thead>\n",
       "  <tbody>\n",
       "    <tr>\n",
       "      <th>0</th>\n",
       "      <td>Klaus Steiniger</td>\n",
       "      <td>20</td>\n",
       "      <td>https://indico.desy.de/event/29414/contributio...</td>\n",
       "    </tr>\n",
       "    <tr>\n",
       "      <th>1</th>\n",
       "      <td>Jonas Wolff</td>\n",
       "      <td>21</td>\n",
       "      <td>https://indico.desy.de/event/29414/contributio...</td>\n",
       "    </tr>\n",
       "    <tr>\n",
       "      <th>2</th>\n",
       "      <td>Attila Cangi</td>\n",
       "      <td>22</td>\n",
       "      <td>https://indico.desy.de/event/29414/contributio...</td>\n",
       "    </tr>\n",
       "    <tr>\n",
       "      <th>3</th>\n",
       "      <td>Jurjen Couperus Cabadag</td>\n",
       "      <td>23</td>\n",
       "      <td>https://indico.desy.de/event/29414/contributio...</td>\n",
       "    </tr>\n",
       "    <tr>\n",
       "      <th>4</th>\n",
       "      <td>Francesco Valenti</td>\n",
       "      <td>26</td>\n",
       "      <td>https://indico.desy.de/event/29414/contributio...</td>\n",
       "    </tr>\n",
       "    <tr>\n",
       "      <th>5</th>\n",
       "      <td>Lewis Boulton</td>\n",
       "      <td>27</td>\n",
       "      <td>https://indico.desy.de/event/29414/contributio...</td>\n",
       "    </tr>\n",
       "    <tr>\n",
       "      <th>6</th>\n",
       "      <td>Christopher Bate</td>\n",
       "      <td>32</td>\n",
       "      <td>https://indico.desy.de/event/29414/contributio...</td>\n",
       "    </tr>\n",
       "    <tr>\n",
       "      <th>7</th>\n",
       "      <td>Andrea Denker</td>\n",
       "      <td>33</td>\n",
       "      <td>https://indico.desy.de/event/29414/contributio...</td>\n",
       "    </tr>\n",
       "    <tr>\n",
       "      <th>8</th>\n",
       "      <td>Steffen Bähr</td>\n",
       "      <td>34</td>\n",
       "      <td>https://indico.desy.de/event/29414/contributio...</td>\n",
       "    </tr>\n",
       "    <tr>\n",
       "      <th>9</th>\n",
       "      <td>Sebastian Maier</td>\n",
       "      <td>35</td>\n",
       "      <td>https://indico.desy.de/event/29414/contributio...</td>\n",
       "    </tr>\n",
       "    <tr>\n",
       "      <th>10</th>\n",
       "      <td>Vladimir Sidorenko</td>\n",
       "      <td>37</td>\n",
       "      <td>https://indico.desy.de/event/29414/contributio...</td>\n",
       "    </tr>\n",
       "    <tr>\n",
       "      <th>11</th>\n",
       "      <td>Dmytro Kresan</td>\n",
       "      <td>38</td>\n",
       "      <td>https://indico.desy.de/event/29414/contributio...</td>\n",
       "    </tr>\n",
       "    <tr>\n",
       "      <th>12</th>\n",
       "      <td>Gabriela Perez</td>\n",
       "      <td>39</td>\n",
       "      <td>https://indico.desy.de/event/29414/contributio...</td>\n",
       "    </tr>\n",
       "    <tr>\n",
       "      <th>13</th>\n",
       "      <td>Martin Metternich</td>\n",
       "      <td>40</td>\n",
       "      <td>https://indico.desy.de/event/29414/contributio...</td>\n",
       "    </tr>\n",
       "    <tr>\n",
       "      <th>14</th>\n",
       "      <td>Yi Hua</td>\n",
       "      <td>41</td>\n",
       "      <td>https://indico.desy.de/event/29414/contributio...</td>\n",
       "    </tr>\n",
       "    <tr>\n",
       "      <th>15</th>\n",
       "      <td>Nora Schirmel, Sebastian Schulz, Bastian Mansc...</td>\n",
       "      <td>42</td>\n",
       "      <td>https://indico.desy.de/event/29414/contributio...</td>\n",
       "    </tr>\n",
       "    <tr>\n",
       "      <th>18</th>\n",
       "      <td>Ricardo Monroy Villa</td>\n",
       "      <td>51</td>\n",
       "      <td>https://indico.desy.de/event/29414/contributio...</td>\n",
       "    </tr>\n",
       "    <tr>\n",
       "      <th>19</th>\n",
       "      <td>Tobias Weilbach</td>\n",
       "      <td>52</td>\n",
       "      <td>https://indico.desy.de/event/29414/contributio...</td>\n",
       "    </tr>\n",
       "  </tbody>\n",
       "</table>\n",
       "</div>"
      ],
      "text/plain": [
       "                                           Presenters  Id  \\\n",
       "0                                     Klaus Steiniger  20   \n",
       "1                                         Jonas Wolff  21   \n",
       "2                                        Attila Cangi  22   \n",
       "3                             Jurjen Couperus Cabadag  23   \n",
       "4                                   Francesco Valenti  26   \n",
       "5                                       Lewis Boulton  27   \n",
       "6                                    Christopher Bate  32   \n",
       "7                                       Andrea Denker  33   \n",
       "8                                        Steffen Bähr  34   \n",
       "9                                     Sebastian Maier  35   \n",
       "10                                 Vladimir Sidorenko  37   \n",
       "11                                      Dmytro Kresan  38   \n",
       "12                                     Gabriela Perez  39   \n",
       "13                                  Martin Metternich  40   \n",
       "14                                             Yi Hua  41   \n",
       "15  Nora Schirmel, Sebastian Schulz, Bastian Mansc...  42   \n",
       "18                               Ricardo Monroy Villa  51   \n",
       "19                                    Tobias Weilbach  52   \n",
       "\n",
       "                                            Materials  \n",
       "0   https://indico.desy.de/event/29414/contributio...  \n",
       "1   https://indico.desy.de/event/29414/contributio...  \n",
       "2   https://indico.desy.de/event/29414/contributio...  \n",
       "3   https://indico.desy.de/event/29414/contributio...  \n",
       "4   https://indico.desy.de/event/29414/contributio...  \n",
       "5   https://indico.desy.de/event/29414/contributio...  \n",
       "6   https://indico.desy.de/event/29414/contributio...  \n",
       "7   https://indico.desy.de/event/29414/contributio...  \n",
       "8   https://indico.desy.de/event/29414/contributio...  \n",
       "9   https://indico.desy.de/event/29414/contributio...  \n",
       "10  https://indico.desy.de/event/29414/contributio...  \n",
       "11  https://indico.desy.de/event/29414/contributio...  \n",
       "12  https://indico.desy.de/event/29414/contributio...  \n",
       "13  https://indico.desy.de/event/29414/contributio...  \n",
       "14  https://indico.desy.de/event/29414/contributio...  \n",
       "15  https://indico.desy.de/event/29414/contributio...  \n",
       "18  https://indico.desy.de/event/29414/contributio...  \n",
       "19  https://indico.desy.de/event/29414/contributio...  "
      ]
     },
     "execution_count": 4,
     "metadata": {},
     "output_type": "execute_result"
    }
   ],
   "source": [
    "#for index,r in s.iterrows():\n",
    "#    if r['Materials'].find('.png') == -1 and r['Materials'].find('.PNG') == -1:\n",
    "#        url = r['Materials']\n",
    "#        print(url)\n",
    "#s['Materials'][0]\n",
    "#s['Presenters']\n",
    "s"
   ]
  },
  {
   "cell_type": "code",
   "execution_count": 8,
   "metadata": {},
   "outputs": [],
   "source": [
    "#download materials and rename it with poster-ID.\n",
    "_poster_indico_dir = './posters_indico/'\n",
    "system(f'mkdir -p {_poster_indico_dir}')\n",
    "\n",
    "for index, r in s.iterrows():\n",
    "    ## consider only PDF contributions here\n",
    "    if r['Materials'].find('.png') == -1 and r['Materials'].find('.PNG') == -1:\n",
    "        url = r['Materials']\n",
    "        user_id = r['Id']\n",
    "        r = requests.get(url, allow_redirects=True)\n",
    "        open(_poster_indico_dir+'/'+str(user_id)+'.pdf', 'wb').write(r.content)\n",
    "    ## PNG guys\n",
    "    else:\n",
    "        user_id = r['Id']\n",
    "        try:\n",
    "            url = r['Materials'].split(',')[1]\n",
    "        except:\n",
    "            url = r['Materials'].split(',')[0] ##only PNG guys\n",
    "        r = requests.get(url, allow_redirects=True)\n",
    "        file = open(_poster_indico_dir+'/'+str(user_id)+'.png', 'wb')\n",
    "        file.write(r.content)\n",
    "        file.close()"
   ]
  },
  {
   "cell_type": "markdown",
   "metadata": {},
   "source": [
    "## Convert them to pdf-only posters to png files "
   ]
  },
  {
   "cell_type": "code",
   "execution_count": 9,
   "metadata": {},
   "outputs": [
    {
     "data": {
      "text/plain": [
       "0"
      ]
     },
     "execution_count": 9,
     "metadata": {},
     "output_type": "execute_result"
    }
   ],
   "source": [
    "_poster_out_dir = './posters_png/'\n",
    "system(f'mkdir -p {_poster_out_dir}')"
   ]
  },
  {
   "cell_type": "code",
   "execution_count": 14,
   "metadata": {},
   "outputs": [
    {
     "name": "stdout",
     "output_type": "stream",
     "text": [
      "mv ./posters_indico/*.png ./posters_png/\n"
     ]
    },
    {
     "data": {
      "text/plain": [
       "0"
      ]
     },
     "execution_count": 14,
     "metadata": {},
     "output_type": "execute_result"
    }
   ],
   "source": [
    "### Move already-png posters\n",
    "command = f'mv {_poster_indico_dir}*.png {_poster_out_dir}'\n",
    "print (command)\n",
    "system(command)"
   ]
  },
  {
   "cell_type": "code",
   "execution_count": 10,
   "metadata": {},
   "outputs": [
    {
     "data": {
      "text/plain": [
       "['51.pdf',\n",
       " '26.pdf',\n",
       " '39.pdf',\n",
       " '22.pdf',\n",
       " '21.pdf',\n",
       " '33.pdf',\n",
       " '42.pdf',\n",
       " '38.pdf']"
      ]
     },
     "execution_count": 10,
     "metadata": {},
     "output_type": "execute_result"
    }
   ],
   "source": [
    "path = _poster_indico_dir\n",
    "pdf_files = [f for f in listdir(path) if isfile(join(path, f)) and '.pdf' in f]\n",
    "pdf_files\n"
   ]
  },
  {
   "cell_type": "code",
   "execution_count": 11,
   "metadata": {},
   "outputs": [
    {
     "name": "stdout",
     "output_type": "stream",
     "text": [
      "pdftoppm -rx 300 -ry 300 -png ./posters_indico/51.pdf ./posters_png//51.pdf\n",
      "pdftoppm -rx 300 -ry 300 -png ./posters_indico/26.pdf ./posters_png//26.pdf\n",
      "pdftoppm -rx 300 -ry 300 -png ./posters_indico/39.pdf ./posters_png//39.pdf\n",
      "pdftoppm -rx 300 -ry 300 -png ./posters_indico/22.pdf ./posters_png//22.pdf\n",
      "pdftoppm -rx 300 -ry 300 -png ./posters_indico/21.pdf ./posters_png//21.pdf\n",
      "pdftoppm -rx 300 -ry 300 -png ./posters_indico/33.pdf ./posters_png//33.pdf\n",
      "pdftoppm -rx 300 -ry 300 -png ./posters_indico/42.pdf ./posters_png//42.pdf\n",
      "pdftoppm -rx 300 -ry 300 -png ./posters_indico/38.pdf ./posters_png//38.pdf\n"
     ]
    }
   ],
   "source": [
    "for f in pdf_files:\n",
    "    command = f'pdftoppm -rx 300 -ry 300 -png {path}{f} {_poster_out_dir}/{f}'\n",
    "    system(command)\n",
    "    print(command)\n",
    "    \n"
   ]
  },
  {
   "cell_type": "markdown",
   "metadata": {},
   "source": [
    "## Assignment for Rooms"
   ]
  },
  {
   "cell_type": "code",
   "execution_count": 9,
   "metadata": {},
   "outputs": [],
   "source": [
    "room_links = [\n",
    "    'https://heps2021.link/TREofa3',\n",
    "    'https://heps2021.link/Sq4gdA5',\n",
    "    'https://heps2021.link/jbxtX7K',\n",
    "    'https://heps2021.link/xPK2BVE',\n",
    "    'https://heps2021.link/ijspAie'\n",
    "]"
   ]
  },
  {
   "cell_type": "code",
   "execution_count": 10,
   "metadata": {},
   "outputs": [
    {
     "data": {
      "text/plain": [
       "{'41': '41.png',\n",
       " '32': '32.png',\n",
       " '26': '26.pdf-1.png',\n",
       " '21': '21.pdf-1.png',\n",
       " '34': '34.png',\n",
       " '35': '35.png',\n",
       " '33': '33.pdf-1.png',\n",
       " '51': '51.pdf-1.png',\n",
       " '23': '23.png',\n",
       " '37': '37.png',\n",
       " '39': '39.pdf-1.png',\n",
       " '22': '22.pdf-1.png',\n",
       " '40': '40.png',\n",
       " '20': '20.png',\n",
       " '27': '27.png',\n",
       " '42': '42.pdf-1.png',\n",
       " '52': '52.png',\n",
       " '38': '38.pdf-1.png'}"
      ]
     },
     "execution_count": 10,
     "metadata": {},
     "output_type": "execute_result"
    }
   ],
   "source": [
    "pngs_folder = './posters_png/'\n",
    "png_files = [f for f in listdir(pngs_folder) if isfile(join(pngs_folder, f)) and '.png' in f]\n",
    "#print(png_files)\n",
    "\n",
    "png_files_dict = {}\n",
    "for p in png_files:\n",
    "    poster_id = p.split('.')[0]\n",
    "    png_files_dict[poster_id] = p\n",
    "png_files_dict"
   ]
  },
  {
   "cell_type": "code",
   "execution_count": 11,
   "metadata": {
    "scrolled": true
   },
   "outputs": [
    {
     "name": "stdout",
     "output_type": "stream",
     "text": [
      "Creating room0_poster0.png for poster ID 20\n",
      "Creating room0_id0.png for poster ID 20\n",
      "Creating room0_poster1.png for poster ID 21\n",
      "Creating room0_id1.png for poster ID 21\n",
      "Creating room0_poster2.png for poster ID 22\n",
      "Creating room0_id2.png for poster ID 22\n",
      "Creating room0_poster3.png for poster ID 23\n",
      "Creating room0_id3.png for poster ID 23\n",
      "Creating room0_poster4.png for poster ID 26\n",
      "Creating room0_id4.png for poster ID 26\n",
      "Creating room1_poster0.png for poster ID 27\n",
      "Creating room1_id0.png for poster ID 27\n",
      "Creating room1_poster1.png for poster ID 32\n",
      "Creating room1_id1.png for poster ID 32\n",
      "Creating room1_poster2.png for poster ID 33\n",
      "Creating room1_id2.png for poster ID 33\n",
      "Creating room1_poster3.png for poster ID 34\n",
      "Creating room1_id3.png for poster ID 34\n",
      "Creating room1_poster4.png for poster ID 35\n",
      "Creating room1_id4.png for poster ID 35\n",
      "Creating room2_poster0.png for poster ID 37\n",
      "Creating room2_id0.png for poster ID 37\n",
      "Creating room2_poster1.png for poster ID 38\n",
      "Creating room2_id1.png for poster ID 38\n",
      "Creating room2_poster2.png for poster ID 39\n",
      "Creating room2_id2.png for poster ID 39\n",
      "Creating room2_poster3.png for poster ID 40\n",
      "Creating room2_id3.png for poster ID 40\n",
      "Creating room2_poster4.png for poster ID 41\n",
      "Creating room2_id4.png for poster ID 41\n",
      "Creating room3_poster0.png for poster ID 42\n",
      "Creating room3_id0.png for poster ID 42\n",
      "Creating room3_poster1.png for poster ID 51\n",
      "Creating room3_id1.png for poster ID 51\n",
      "Creating room3_poster2.png for poster ID 52\n",
      "Creating room3_id2.png for poster ID 52\n"
     ]
    }
   ],
   "source": [
    "out_json = []\n",
    "\n",
    "_poster_session = 4\n",
    "counter = 0\n",
    "\n",
    "\n",
    "for poster_id, p in sorted(png_files_dict.items()):\n",
    "# for p in png_files:\n",
    "    \n",
    "    room_number = int(counter/5)\n",
    "    local_poster_number = counter%5\n",
    "    \n",
    "\n",
    "    counter += 1\n",
    "    \n",
    "    target_name = f'room{room_number}_poster{local_poster_number}.png'\n",
    "    target_name_id = f'room{room_number}_id{local_poster_number}.png'\n",
    "    \n",
    "    print(f'Creating {target_name} for poster ID {poster_id}')\n",
    "    \n",
    "    print(f'Creating {target_name_id} for poster ID {poster_id}')\n",
    "    #generate_text(poster_id, _poster_out_dir+'/'+target_name_id)\n",
    "    \n",
    "    out_json.append({\n",
    "        'poster_id': poster_id,\n",
    "        'room_number': room_number,\n",
    "        'local_poster_number': local_poster_number,\n",
    "        'room_link': room_links[room_number - 1]\n",
    "    })\n",
    "    \n",
    "    #system(f'cp {pngs_folder}/{p} {_poster_out_dir}/{target_name}')"
   ]
  },
  {
   "cell_type": "code",
   "execution_count": 12,
   "metadata": {},
   "outputs": [
    {
     "data": {
      "text/plain": [
       "[{'poster_id': '20',\n",
       "  'room_number': 0,\n",
       "  'local_poster_number': 0,\n",
       "  'room_link': 'https://heps2021.link/ijspAie'},\n",
       " {'poster_id': '21',\n",
       "  'room_number': 0,\n",
       "  'local_poster_number': 1,\n",
       "  'room_link': 'https://heps2021.link/ijspAie'},\n",
       " {'poster_id': '22',\n",
       "  'room_number': 0,\n",
       "  'local_poster_number': 2,\n",
       "  'room_link': 'https://heps2021.link/ijspAie'},\n",
       " {'poster_id': '23',\n",
       "  'room_number': 0,\n",
       "  'local_poster_number': 3,\n",
       "  'room_link': 'https://heps2021.link/ijspAie'},\n",
       " {'poster_id': '26',\n",
       "  'room_number': 0,\n",
       "  'local_poster_number': 4,\n",
       "  'room_link': 'https://heps2021.link/ijspAie'},\n",
       " {'poster_id': '27',\n",
       "  'room_number': 1,\n",
       "  'local_poster_number': 0,\n",
       "  'room_link': 'https://heps2021.link/TREofa3'},\n",
       " {'poster_id': '32',\n",
       "  'room_number': 1,\n",
       "  'local_poster_number': 1,\n",
       "  'room_link': 'https://heps2021.link/TREofa3'},\n",
       " {'poster_id': '33',\n",
       "  'room_number': 1,\n",
       "  'local_poster_number': 2,\n",
       "  'room_link': 'https://heps2021.link/TREofa3'},\n",
       " {'poster_id': '34',\n",
       "  'room_number': 1,\n",
       "  'local_poster_number': 3,\n",
       "  'room_link': 'https://heps2021.link/TREofa3'},\n",
       " {'poster_id': '35',\n",
       "  'room_number': 1,\n",
       "  'local_poster_number': 4,\n",
       "  'room_link': 'https://heps2021.link/TREofa3'},\n",
       " {'poster_id': '37',\n",
       "  'room_number': 2,\n",
       "  'local_poster_number': 0,\n",
       "  'room_link': 'https://heps2021.link/Sq4gdA5'},\n",
       " {'poster_id': '38',\n",
       "  'room_number': 2,\n",
       "  'local_poster_number': 1,\n",
       "  'room_link': 'https://heps2021.link/Sq4gdA5'},\n",
       " {'poster_id': '39',\n",
       "  'room_number': 2,\n",
       "  'local_poster_number': 2,\n",
       "  'room_link': 'https://heps2021.link/Sq4gdA5'},\n",
       " {'poster_id': '40',\n",
       "  'room_number': 2,\n",
       "  'local_poster_number': 3,\n",
       "  'room_link': 'https://heps2021.link/Sq4gdA5'},\n",
       " {'poster_id': '41',\n",
       "  'room_number': 2,\n",
       "  'local_poster_number': 4,\n",
       "  'room_link': 'https://heps2021.link/Sq4gdA5'},\n",
       " {'poster_id': '42',\n",
       "  'room_number': 3,\n",
       "  'local_poster_number': 0,\n",
       "  'room_link': 'https://heps2021.link/jbxtX7K'},\n",
       " {'poster_id': '51',\n",
       "  'room_number': 3,\n",
       "  'local_poster_number': 1,\n",
       "  'room_link': 'https://heps2021.link/jbxtX7K'},\n",
       " {'poster_id': '52',\n",
       "  'room_number': 3,\n",
       "  'local_poster_number': 2,\n",
       "  'room_link': 'https://heps2021.link/jbxtX7K'}]"
      ]
     },
     "execution_count": 12,
     "metadata": {},
     "output_type": "execute_result"
    }
   ],
   "source": [
    "out_json"
   ]
  },
  {
   "cell_type": "code",
   "execution_count": 18,
   "metadata": {},
   "outputs": [
    {
     "name": "stdout",
     "output_type": "stream",
     "text": [
      "PosterID: 20 ---> Room #1\n",
      "PosterID: 21 ---> Room #1\n",
      "PosterID: 22 ---> Room #1\n",
      "PosterID: 23 ---> Room #1\n",
      "PosterID: 26 ---> Room #1\n",
      "PosterID: 27 ---> Room #2\n",
      "PosterID: 32 ---> Room #2\n",
      "PosterID: 33 ---> Room #2\n",
      "PosterID: 34 ---> Room #2\n",
      "PosterID: 35 ---> Room #2\n",
      "PosterID: 37 ---> Room #3\n",
      "PosterID: 38 ---> Room #3\n",
      "PosterID: 39 ---> Room #3\n",
      "PosterID: 40 ---> Room #3\n",
      "PosterID: 41 ---> Room #3\n",
      "PosterID: 42 ---> Room #4\n",
      "PosterID: 51 ---> Room #4\n",
      "PosterID: 52 ---> Room #4\n"
     ]
    }
   ],
   "source": [
    "for i in out_json:\n",
    "    name = 'room'+str(i['room_number'])+'_poster'+str(i['local_poster_number'])+'.png'\n",
    "    poster_id = i['poster_id']\n",
    "    print(\"PosterID: \"+poster_id, '--->', 'Room #'+str(i['room_number']+1))\n"
   ]
  },
  {
   "cell_type": "markdown",
   "metadata": {},
   "source": [
    "## Push to AWS S3 (automatic) [Not working]"
   ]
  },
  {
   "cell_type": "code",
   "execution_count": null,
   "metadata": {},
   "outputs": [],
   "source": [
    "import logging\n",
    "import boto3\n",
    "import os\n",
    "from botocore.exceptions import ClientError\n",
    "from botocore.exceptions import NoCredentialsError"
   ]
  },
  {
   "cell_type": "code",
   "execution_count": null,
   "metadata": {},
   "outputs": [],
   "source": [
    "ACCESS_KEY = os.environ['AWS_ACCESS_KEY_ID']\n",
    "SECRET_KEY = os.environ['AWS_SECRET_ACCESS_KEY']\n",
    "\n",
    "\n",
    "\n",
    "def upload_to_aws(local_file, bucket, s3_file):\n",
    "    s3 = boto3.client('s3', aws_access_key_id=ACCESS_KEY,\n",
    "                      aws_secret_access_key=SECRET_KEY)\n",
    "\n",
    "    try:\n",
    "        s3.upload_file(local_file, bucket, s3_file)\n",
    "        print(\"Upload Successful\")\n",
    "        return True\n",
    "    except FileNotFoundError:\n",
    "        print(\"The file was not found\")\n",
    "        return False\n",
    "    except NoCredentialsError:\n",
    "        print(\"Credentials not available\")\n",
    "        return False\n",
    "\n",
    "\n",
    "#uploaded = upload_to_aws('./posters_png/room_0_poster0.png', 'posters-mt', 'room_0_poster0.png')"
   ]
  },
  {
   "cell_type": "code",
   "execution_count": null,
   "metadata": {},
   "outputs": [],
   "source": [
    "for i in out_json:\n",
    "    name = 'room'+str(i['room_number'])+'_poster'+str(i['local_poster_number'])+'.png'\n",
    "    print(name)\n",
    "    uploaded = upload_to_aws('./posters_png/'+name, 'posters-mt', name)"
   ]
  },
  {
   "cell_type": "code",
   "execution_count": null,
   "metadata": {},
   "outputs": [],
   "source": []
  }
 ],
 "metadata": {
  "kernelspec": {
   "display_name": "Python 3",
   "language": "python",
   "name": "python3"
  },
  "language_info": {
   "codemirror_mode": {
    "name": "ipython",
    "version": 3
   },
   "file_extension": ".py",
   "mimetype": "text/x-python",
   "name": "python",
   "nbconvert_exporter": "python",
   "pygments_lexer": "ipython3",
   "version": "3.7.6"
  }
 },
 "nbformat": 4,
 "nbformat_minor": 4
}
