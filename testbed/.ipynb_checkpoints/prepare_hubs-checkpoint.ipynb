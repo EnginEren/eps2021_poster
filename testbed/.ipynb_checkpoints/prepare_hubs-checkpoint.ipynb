{
 "cells": [
  {
   "cell_type": "markdown",
   "metadata": {},
   "source": [
    "## Fetch and parse\n",
    "Download `contributionsMT.csv` file from the event indico. You need admin rights for that"
   ]
  },
  {
   "cell_type": "code",
   "execution_count": 71,
   "metadata": {},
   "outputs": [],
   "source": [
    "import pandas as pd\n",
    "import requests\n",
    "from os import listdir, system\n",
    "from os.path import isfile, join\n",
    "\n",
    "data = pd.read_csv(\"contributionsMT.csv\")\n",
    "s = data[['Presenters', 'Id', 'Materials']].dropna()\n",
    "#data.keys()"
   ]
  },
  {
   "cell_type": "code",
   "execution_count": 74,
   "metadata": {},
   "outputs": [],
   "source": [
    "#download materials and rename it with poster-ID.\n",
    "_poster_indico_dir = './posters_indico/'\n",
    "system(f'mkdir -p {_poster_indico_dir}')\n",
    "\n",
    "for index, r in s.iterrows():\n",
    "    url = r['Materials']\n",
    "    user_id = r['Id']\n",
    "    r = requests.get(url, allow_redirects=True)\n",
    "    open(_poster_indico_dir+'/poster_id_'+str(user_id)+'.pdf', 'wb').write(r.content)"
   ]
  },
  {
   "cell_type": "code",
   "execution_count": 68,
   "metadata": {},
   "outputs": [
    {
     "data": {
      "text/html": [
       "<div>\n",
       "<style scoped>\n",
       "    .dataframe tbody tr th:only-of-type {\n",
       "        vertical-align: middle;\n",
       "    }\n",
       "\n",
       "    .dataframe tbody tr th {\n",
       "        vertical-align: top;\n",
       "    }\n",
       "\n",
       "    .dataframe thead th {\n",
       "        text-align: right;\n",
       "    }\n",
       "</style>\n",
       "<table border=\"1\" class=\"dataframe\">\n",
       "  <thead>\n",
       "    <tr style=\"text-align: right;\">\n",
       "      <th></th>\n",
       "      <th>Presenters</th>\n",
       "      <th>Id</th>\n",
       "      <th>Materials</th>\n",
       "    </tr>\n",
       "  </thead>\n",
       "  <tbody>\n",
       "    <tr>\n",
       "      <th>7</th>\n",
       "      <td>Andrea Denker</td>\n",
       "      <td>33</td>\n",
       "      <td>https://indico.desy.de/event/29414/contributio...</td>\n",
       "    </tr>\n",
       "  </tbody>\n",
       "</table>\n",
       "</div>"
      ],
      "text/plain": [
       "      Presenters  Id                                          Materials\n",
       "7  Andrea Denker  33  https://indico.desy.de/event/29414/contributio..."
      ]
     },
     "execution_count": 68,
     "metadata": {},
     "output_type": "execute_result"
    }
   ],
   "source": [
    "s"
   ]
  },
  {
   "cell_type": "markdown",
   "metadata": {},
   "source": [
    "## Convert them to png files "
   ]
  },
  {
   "cell_type": "code",
   "execution_count": 85,
   "metadata": {},
   "outputs": [
    {
     "data": {
      "text/plain": [
       "0"
      ]
     },
     "execution_count": 85,
     "metadata": {},
     "output_type": "execute_result"
    }
   ],
   "source": [
    "_poster_out_dir = './posters_png/'\n",
    "system(f'mkdir -p {_poster_out_dir}')"
   ]
  },
  {
   "cell_type": "code",
   "execution_count": 86,
   "metadata": {},
   "outputs": [
    {
     "data": {
      "text/plain": [
       "['poster_id_33.pdf']"
      ]
     },
     "execution_count": 86,
     "metadata": {},
     "output_type": "execute_result"
    }
   ],
   "source": [
    "path = _poster_indico_dir\n",
    "pdf_files = [f for f in listdir(path) if isfile(join(path, f)) and '.pdf' in f]\n",
    "pdf_files\n"
   ]
  },
  {
   "cell_type": "code",
   "execution_count": 89,
   "metadata": {},
   "outputs": [
    {
     "name": "stdout",
     "output_type": "stream",
     "text": [
      "pdftoppm -rx 300 -ry 300 -png ./posters_indico/poster_id_33.pdf ./posters_png//poster_id_33.pdf\n"
     ]
    }
   ],
   "source": [
    "for f in pdf_files:\n",
    "    command = f'pdftoppm -rx 300 -ry 300 -png {path}{f} {_poster_out_dir}/{f}'\n",
    "    system(command)\n",
    "    print(command)\n",
    "    \n"
   ]
  },
  {
   "cell_type": "markdown",
   "metadata": {},
   "source": [
    "## Assignment for Rooms"
   ]
  },
  {
   "cell_type": "code",
   "execution_count": 103,
   "metadata": {},
   "outputs": [],
   "source": [
    "room_links = [\n",
    "    'https://heps2021.link/TREofa3',\n",
    "    'https://heps2021.link/Sq4gdA5',\n",
    "    'https://heps2021.link/jbxtX7K',\n",
    "    'https://heps2021.link/xPK2BVE',\n",
    "    'https://heps2021.link/ijspAie'\n",
    "]"
   ]
  },
  {
   "cell_type": "code",
   "execution_count": 101,
   "metadata": {},
   "outputs": [
    {
     "data": {
      "text/plain": [
       "{'33': 'poster_id_33.pdf-1.png'}"
      ]
     },
     "execution_count": 101,
     "metadata": {},
     "output_type": "execute_result"
    }
   ],
   "source": [
    "pngs_folder = './posters_png/'\n",
    "png_files = [f for f in listdir(pngs_folder) if isfile(join(pngs_folder, f)) and '.png' in f]\n",
    "#print(png_files)\n",
    "\n",
    "png_files_dict = {}\n",
    "for p in png_files:\n",
    "    poster_id = p.split('.')[0].split('_')[-1]\n",
    "    png_files_dict[poster_id] = p\n",
    "png_files_dict"
   ]
  },
  {
   "cell_type": "code",
   "execution_count": 107,
   "metadata": {},
   "outputs": [
    {
     "name": "stdout",
     "output_type": "stream",
     "text": [
      "Creating room_0_poster0.png for poster ID 33\n"
     ]
    }
   ],
   "source": [
    "out_json = []\n",
    "\n",
    "_poster_session = 4\n",
    "counter = 0\n",
    "\n",
    "\n",
    "for poster_id, p in sorted(png_files_dict.items()):\n",
    "# for p in png_files:\n",
    "    \n",
    "    room_number = int(counter/5)\n",
    "    local_poster_number = counter%5\n",
    "    \n",
    "\n",
    "    counter += 1\n",
    "    \n",
    "    target_name = f'room_{room_number}_poster{local_poster_number}.png'\n",
    "    \n",
    "    print(f'Creating {target_name} for poster ID {poster_id}')\n",
    "    \n",
    "    out_json.append({\n",
    "        'poster_id': poster_id,\n",
    "        'room_number': room_number,\n",
    "        'local_poster_number': local_poster_number,\n",
    "        'room_link': room_links[room_number - 1]\n",
    "    })\n",
    "    \n",
    "    system(f'cp {pngs_folder}/{p} {_poster_out_dir}/{target_name}')"
   ]
  },
  {
   "cell_type": "code",
   "execution_count": 108,
   "metadata": {},
   "outputs": [
    {
     "data": {
      "text/plain": [
       "[{'poster_id': '33',\n",
       "  'room_number': 0,\n",
       "  'local_poster_number': 0,\n",
       "  'room_link': 'https://heps2021.link/ijspAie'}]"
      ]
     },
     "execution_count": 108,
     "metadata": {},
     "output_type": "execute_result"
    }
   ],
   "source": [
    "out_json"
   ]
  },
  {
   "cell_type": "markdown",
   "metadata": {},
   "source": [
    "## Push to AWS S3 (automatic)"
   ]
  },
  {
   "cell_type": "code",
   "execution_count": null,
   "metadata": {},
   "outputs": [],
   "source": []
  }
 ],
 "metadata": {
  "kernelspec": {
   "display_name": "Python 3",
   "language": "python",
   "name": "python3"
  },
  "language_info": {
   "codemirror_mode": {
    "name": "ipython",
    "version": 3
   },
   "file_extension": ".py",
   "mimetype": "text/x-python",
   "name": "python",
   "nbconvert_exporter": "python",
   "pygments_lexer": "ipython3",
   "version": "3.7.6"
  }
 },
 "nbformat": 4,
 "nbformat_minor": 4
}
